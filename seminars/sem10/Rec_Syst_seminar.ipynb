{
 "cells": [
  {
   "cell_type": "code",
   "execution_count": 7,
   "metadata": {
    "collapsed": false,
    "deletable": true,
    "editable": true
   },
   "outputs": [
    {
     "name": "stdout",
     "output_type": "stream",
     "text": [
      "Populating the interactive namespace from numpy and matplotlib\n"
     ]
    }
   ],
   "source": [
    "%pylab inline"
   ]
  },
  {
   "cell_type": "code",
   "execution_count": 8,
   "metadata": {
    "collapsed": true,
    "deletable": true,
    "editable": true
   },
   "outputs": [],
   "source": [
    "from scipy import stats\n",
    "#r,p=stats.pearsonr(xdata,ydata)\n",
    "#slope, intercept, r_value, p_value, std_err = stats.linregress(xdata,ydata)\n",
    "from collections import defaultdict\n",
    "import matplotlib.pyplot as plt"
   ]
  },
  {
   "cell_type": "code",
   "execution_count": 9,
   "metadata": {
    "collapsed": true,
    "deletable": true,
    "editable": true
   },
   "outputs": [],
   "source": [
    "# A dictionary of movie reviewers and their ratings of a small set of movies\n",
    "reviews={\n",
    "    'Lisa Rose':\n",
    "        {'Lady in the Water': 2.5, 'Snakes on a Plane': 3.5, 'Just My Luck': 3.0,\n",
    "         'Superman Returns': 3.5, 'You, Me and Dupree': 2.5, 'The Night Listener': 3.0},\n",
    "    'Gene Seymour':\n",
    "        {'Lady in the Water': 3.0, 'Snakes on a Plane': 3.5, 'Just My Luck': 1.5,\n",
    "         'Superman Returns': 5.0, 'The Night Listener': 3.0, 'You, Me and Dupree': 3.5}, \n",
    "    'Michael Phillips':\n",
    "        {'Lady in the Water': 2.5, 'Snakes on a Plane': 3.0,\n",
    "         'Superman Returns': 3.5, 'The Night Listener': 4.0},\n",
    "    'Claudia Puig':\n",
    "        {'Snakes on a Plane': 3.5, 'Just My Luck': 3.0, 'The Night Listener': 4.5,\n",
    "         'Superman Returns': 4.0, 'You, Me and Dupree': 2.5},\n",
    "    'Mick LaSalle':\n",
    "         {'Lady in the Water': 3.0, 'Snakes on a Plane': 4.0, 'Just My Luck': 2.0,\n",
    "          'Superman Returns': 3.0, 'The Night Listener': 3.0, 'You, Me and Dupree': 2.0}, \n",
    "    'Jack Matthews':\n",
    "        {'Lady in the Water': 3.0, 'Snakes on a Plane': 4.0,\n",
    "         'The Night Listener': 3.0, 'Superman Returns': 5.0, 'You, Me and Dupree': 3.5},\n",
    "    'Toby':\n",
    "        {'Snakes on a Plane':4.5,'You, Me and Dupree':1.0,'Superman Returns':4.0}\n",
    "}"
   ]
  },
  {
   "cell_type": "code",
   "execution_count": 10,
   "metadata": {
    "collapsed": false,
    "deletable": true,
    "editable": true
   },
   "outputs": [
    {
     "data": {
      "text/plain": [
       "(7, [5, 6, 5, 6, 3, 6, 4])"
      ]
     },
     "execution_count": 10,
     "metadata": {},
     "output_type": "execute_result"
    }
   ],
   "source": [
    "len(reviews), map(len,reviews.values())"
   ]
  },
  {
   "cell_type": "code",
   "execution_count": 11,
   "metadata": {
    "collapsed": false,
    "deletable": true,
    "editable": true
   },
   "outputs": [
    {
     "data": {
      "text/plain": [
       "{'Snakes on a Plane': 4.5, 'Superman Returns': 4.0, 'You, Me and Dupree': 1.0}"
      ]
     },
     "execution_count": 11,
     "metadata": {},
     "output_type": "execute_result"
    }
   ],
   "source": [
    "#what has Toby reviewed:\n",
    "reviews['Toby']"
   ]
  },
  {
   "cell_type": "code",
   "execution_count": 12,
   "metadata": {
    "collapsed": false,
    "deletable": true,
    "editable": true
   },
   "outputs": [
    {
     "name": "stdout",
     "output_type": "stream",
     "text": [
      "Jack Matthews: (3.5,4.0)\n",
      "Mick LaSalle: (2.0,4.0)\n",
      "Claudia Puig: (2.5,3.5)\n",
      "Lisa Rose: (2.5,3.5)\n",
      "Toby: (1.0,4.5)\n",
      "Gene Seymour: (3.5,3.5)\n"
     ]
    },
    {
     "data": {
      "image/png": "[encoded data removed]",
      "text/plain": [
       "<matplotlib.figure.Figure at 0x10ada4390>"
      ]
     },
     "metadata": {},
     "output_type": "display_data"
    }
   ],
   "source": [
    "# plot the critics who reviewed these two:\n",
    "dupree='You, Me and Dupree'\n",
    "snakes='Snakes on a Plane'\n",
    "\n",
    "crit2 = [critic for critic in reviews if dupree in reviews[critic] and snakes in reviews[critic]]\n",
    "du_ratings=[reviews[c][dupree] for c in crit2]\n",
    "sn_ratings=[reviews[c][snakes] for c in crit2]\n",
    "\n",
    "plt.figure(figsize=(4.5,4.5))\n",
    "xlim(.9,5.1),ylim(.9,5.1)\n",
    "xlabel(dupree), ylabel(snakes)\n",
    "\n",
    "plot(du_ratings,sn_ratings,'bo')\n",
    "\n",
    "for crit,x,y in zip(crit2,du_ratings,sn_ratings):\n",
    "    print '{}: ({},{})'.format(crit,x,y)\n",
    "#move Puig down to avoid collision\n",
    "    text(x+.05,y+(.01 if 'Puig' not in crit else -.2),crit.split()[-1])"
   ]
  },
  {
   "cell_type": "markdown",
   "metadata": {
    "deletable": true,
    "editable": true
   },
   "source": [
    "Какие из критиков схожи по интересам? Основываясь только на два фильма, мы можем заключить, что Rose и Puig достаточно похожи, в то время как Toby сильно отличается от Seymour (на 2.5 балла по одному фильму и на 1 по другому). Расстояние между ними (Seymour и Toby) приблизительно равно $\\sqrt{(3.5-1)^{2}+(3.5-4.5)^{2}}\\approx 2.69$. В случае, когда у пары критиков более двух совпадающих оцененных фильмов, в формуле расстояния вычисляется корень из суммы квадратов разностей оценок по всем таким фильмам: $d_{i,j}^{2} = \\sum_{m}(r_{m}(i)-r_{m}(j))^{2}$.\n",
    "\n",
    "На практике удобно использовать меру сходства,а не расстояния (их зависимость обратно пропорциональна):$s_{i,j} = \\frac{1}{1+d_{i,j}^{2}}$. $s_{i,j}$ лежит в отрезке $(0;1]$ (около 0, когда расстояние очень велико;  близко или равно 1 в случае небольшого или нулевого расстояния). Ниже sim_distance() возвращает оценку похожести для двух пользователей, учитывая только совпадающие для них оцененные объекты."
   ]
  },
  {
   "cell_type": "code",
   "execution_count": 15,
   "metadata": {
    "collapsed": true,
    "deletable": true,
    "editable": true
   },
   "outputs": [],
   "source": [
    "def sim_distance(prefs,person1,person2):\n",
    "    # Get the list of shared_items\n",
    "    shared_items=[item for item in prefs[person1] if item in prefs[person2]]\n",
    "\n",
    "    # if they have no ratings in common, return 0\n",
    "    if len(shared_items)==0: return 0\n",
    "\n",
    "    v1=array([prefs[person1][item] for item in shared_items])\n",
    "    v2=array([prefs[person2][item] for item in shared_items])\n",
    "\n",
    "    # use numpy euclidean distance (sqrt(sum of squares))\n",
    "    dist=norm(v1-v2)\n",
    "\n",
    "    #transform to similarity ranging from 0 to 1\n",
    "    #truncate to three after decimal point\n",
    "    return 1/(1+dist**2)"
   ]
  },
  {
   "cell_type": "code",
   "execution_count": 16,
   "metadata": {
    "collapsed": false,
    "deletable": true,
    "editable": true
   },
   "outputs": [
    {
     "name": "stdout",
     "output_type": "stream",
     "text": [
      "Lisa Rose [ 2.5  2.5  3.   3.   3.5  3.5]\n",
      "Gene Seymour [ 3.   3.5  1.5  3.   3.5  5. ]\n",
      "Mick LaSalle [ 3.  2.  2.  3.  4.  3.]\n"
     ]
    },
    {
     "data": {
      "image/png": "[encoded data removed]",
      "text/plain": [
       "<matplotlib.figure.Figure at 0x10f7ed150>"
      ]
     },
     "metadata": {},
     "output_type": "display_data"
    }
   ],
   "source": [
    "#'Lisa Rose' happened to rate all movies\n",
    "all_movies = sorted(reviews['Lisa Rose'],key=reviews['Lisa Rose'].get)\n",
    "\n",
    "def ratings(critic): return array([reviews[critic][m] for m in all_movies])\n",
    "\n",
    "for crit in ('Lisa Rose','Gene Seymour','Mick LaSalle'):\n",
    "    print crit,ratings(crit)\n",
    "    plot(ratings(crit),'o-',label=crit)\n",
    "\n",
    "ylim(0,6),xlim(-.5,5.5)\n",
    "legend(loc='upper left');"
   ]
  },
  {
   "cell_type": "code",
   "execution_count": 17,
   "metadata": {
    "collapsed": false,
    "deletable": true,
    "editable": true
   },
   "outputs": [
    {
     "data": {
      "text/plain": [
       "0.148"
      ]
     },
     "execution_count": 17,
     "metadata": {},
     "output_type": "execute_result"
    }
   ],
   "source": [
    "#for example, the green and blue\n",
    "round(sim_distance(reviews,'Lisa Rose','Gene Seymour'),3)"
   ]
  },
  {
   "cell_type": "markdown",
   "metadata": {
    "deletable": true,
    "editable": true
   },
   "source": [
    "Рассмотрим отличную от предыдущей меру расстояния: корреляция Пирсона (+1, если коррелируют, -1, если антикоррелируют и промежуточные между +1 и -1 значения для шумных корреляций (noisy correlations)). Корреляция Пирсона определяется следующим образом:\n",
    "$$\\frac{E[X-E[X]]E[Y-E[Y]]}{\\sigma_{X}\\sigma_{Y}}$$"
   ]
  },
  {
   "cell_type": "code",
   "execution_count": 19,
   "metadata": {
    "collapsed": false,
    "deletable": true,
    "editable": true
   },
   "outputs": [
    {
     "data": {
      "image/png": "[encoded data removed]",
      "text/plain": [
       "<IPython.core.display.Image object>"
      ]
     },
     "execution_count": 19,
     "metadata": {
      "image/png": {
       "width": 600
      }
     },
     "output_type": "execute_result"
    }
   ],
   "source": [
    "from IPython.display import Image\n",
    "Image('Pearson.png',width=600)"
   ]
  },
  {
   "cell_type": "code",
   "execution_count": 20,
   "metadata": {
    "collapsed": true,
    "deletable": true,
    "editable": true
   },
   "outputs": [],
   "source": [
    "#three critics who rated all 6\n",
    "crit6 = [crit for crit in reviews if len(reviews[crit])==6]\n",
    "#three pairs from above set\n",
    "pairs = [(crit6[i],crit6[j]) for i in range(len(crit6)) for j in range(i)]"
   ]
  },
  {
   "cell_type": "code",
   "execution_count": 21,
   "metadata": {
    "collapsed": false,
    "deletable": true,
    "editable": true
   },
   "outputs": [
    {
     "data": {
      "image/png": "[encoded data removed]",
      "text/plain": [
       "<matplotlib.figure.Figure at 0x10f7eda10>"
      ]
     },
     "metadata": {},
     "output_type": "display_data"
    }
   ],
   "source": [
    "#compare the similarity based on distance with Pearson for these three pairs:\n",
    "\n",
    "plt.figure(figsize=(10.5,6.6))\n",
    "for j,(c1,c2) in enumerate(pairs):\n",
    "    subplot(2,3,j+1)\n",
    "    scatter(ratings(c1),ratings(c2))\n",
    "    for (x,y) in zip(ratings(c1),ratings(c2)): plot((x,x),(x,y),'r-',marker='_',ms=10)        \n",
    "    grid('on')\n",
    "    xticks(range(1,6)),yticks(range(1,6))\n",
    "    axis((.9,5.1,.9,5.1))\n",
    "    xlabel(c1),ylabel(c2)\n",
    "    plot((1,5),(1,5),'b--')\n",
    "    d=norm(ratings(c1)-ratings(c2))\n",
    "    text(1,4.25,'sim_distance={:.2f}\\n(distance={:.2f})'.\\\n",
    "         format(sim_distance(reviews,c1,c2),d),fontsize=12,color='b')\n",
    "        \n",
    "    subplot(2,3,j+4)\n",
    "    scatter(ratings(c1),ratings(c2))\n",
    "    xticks(range(1,6)),yticks(range(1,6))\n",
    "    axis((.9,5.1,.9,5.1))\n",
    "    xlabel(c1),ylabel(c2)\n",
    "    r,p=stats.pearsonr(ratings(c1),ratings(c2))\n",
    "    text(1,4.25,'Pearson r={:.2f}\\n(p={:.2f})'.format(r,p),fontsize=12,color='b')"
   ]
  },
  {
   "cell_type": "code",
   "execution_count": 22,
   "metadata": {
    "collapsed": true,
    "deletable": true,
    "editable": true
   },
   "outputs": [],
   "source": [
    "#define function to look at the Pearson r for a few critic pairs\n",
    "\n",
    "def show_pearson(prefs,crit1,crit2):\n",
    "    shared_items=[item for item in prefs[crit1] if item in prefs[crit2]]\n",
    "\n",
    "    figure(figsize=(5,5))\n",
    "    xlim(.8,5.2),ylim(.8,5.2)\n",
    "    xdata = [prefs[crit1][item] for item in shared_items]\n",
    "    ydata = [prefs[crit2][item] for item in shared_items]\n",
    "\n",
    "    slope, intercept, r_value, p_value, std_err = stats.linregress(xdata,ydata)\n",
    "    xlabel(crit1),ylabel(crit2)\n",
    "    \n",
    "    plot(xdata,ydata,'o')\n",
    "    plot(slope*arange(6)+intercept,'--')\n",
    "    \n",
    "    voffset={(x,y):.01 for x,y in zip(xdata,ydata)}\n",
    "    for item in shared_items:\n",
    "        x,y=prefs[crit1][item],prefs[crit2][item]\n",
    "        text(x+.05, y+voffset[(x,y)], item)\n",
    "        voffset[(x,y)]-=.15\n",
    "    text(1.25,4.5,'Pearson r = {:.2f}'.format(r_value),fontsize=14,color='b')"
   ]
  },
  {
   "cell_type": "code",
   "execution_count": 23,
   "metadata": {
    "collapsed": false,
    "deletable": true,
    "editable": true
   },
   "outputs": [
    {
     "data": {
      "image/png": "[encoded data removed]",
      "text/plain": [
       "<matplotlib.figure.Figure at 0x10fdbdb10>"
      ]
     },
     "metadata": {},
     "output_type": "display_data"
    }
   ],
   "source": [
    "#two fake critics roughly correlated\n",
    "fcritics={'critic1':{'Dupree':1,'Night':2.5,'Lady':3,'Snakes':3.5,'Superman':4.5},\n",
    "         'critic2':{'Dupree':2,'Night':3,'Lady':2.5,'Snakes':3.5,'Superman':3.5}}\n",
    "show_pearson(fcritics,'critic1','critic2')"
   ]
  },
  {
   "cell_type": "code",
   "execution_count": 24,
   "metadata": {
    "collapsed": false,
    "deletable": true,
    "editable": true
   },
   "outputs": [
    {
     "data": {
      "image/png": "[encoded data removed]",
      "text/plain": [
       "<matplotlib.figure.Figure at 0x10fa14710>"
      ]
     },
     "metadata": {},
     "output_type": "display_data"
    }
   ],
   "source": [
    "#two from original set not quite as well correlated\n",
    "show_pearson(reviews,'Mick LaSalle','Gene Seymour')"
   ]
  },
  {
   "cell_type": "code",
   "execution_count": 25,
   "metadata": {
    "collapsed": true,
    "deletable": true,
    "editable": true
   },
   "outputs": [],
   "source": [
    "#now define similarity measure, analogous to sim_distance\n",
    "def sim_pearson(prefs,crit1,crit2):\n",
    "    shared_items=[item for item in prefs[crit1] if item in prefs[crit2]]\n",
    "  #  shared_items=list(set(prefs[person1]) & set(prefs[person2]))  #equivalent\n",
    "    if len(shared_items)==0: return 0\n",
    "    xdata = [prefs[crit1][item] for item in shared_items]\n",
    "    ydata = [prefs[crit2][item] for item in shared_items]\n",
    "    r,p=stats.pearsonr(xdata,ydata)\n",
    "    if isnan(r): return 0\n",
    "    return r"
   ]
  },
  {
   "cell_type": "markdown",
   "metadata": {
    "deletable": true,
    "editable": true
   },
   "source": [
    "Теперь отранжируем критиков и найдем критика, наиболее схожего с данным (критики отранжированны согласно функции близости (similarity measure))."
   ]
  },
  {
   "cell_type": "code",
   "execution_count": 26,
   "metadata": {
    "collapsed": true,
    "deletable": true,
    "editable": true
   },
   "outputs": [],
   "source": [
    "# Returns the best matches for person from the prefs dictionary. \n",
    "# Number of results and similarity function are optional params.\n",
    "\n",
    "def topMatches(prefs, person, n=5, similarity=sim_pearson):\n",
    "  scores=[(other, round(similarity(prefs,person,other),3))\n",
    "                  for other in prefs if other != person]\n",
    "  return sorted(scores,key=lambda x:x[1],reverse=True)[:n]"
   ]
  },
  {
   "cell_type": "code",
   "execution_count": 27,
   "metadata": {
    "collapsed": false,
    "deletable": true,
    "editable": true
   },
   "outputs": [
    {
     "data": {
      "text/plain": [
       "[('Lisa Rose', 0.991),\n",
       " ('Mick LaSalle', 0.924),\n",
       " ('Claudia Puig', 0.893),\n",
       " ('Jack Matthews', 0.663),\n",
       " ('Gene Seymour', 0.381),\n",
       " ('Michael Phillips', -1.0)]"
      ]
     },
     "execution_count": 27,
     "metadata": {},
     "output_type": "execute_result"
    }
   ],
   "source": [
    "topMatches(reviews,'Toby',6)"
   ]
  },
  {
   "cell_type": "code",
   "execution_count": 28,
   "metadata": {
    "collapsed": false,
    "deletable": true,
    "editable": true
   },
   "outputs": [
    {
     "data": {
      "text/plain": [
       "[('Mick LaSalle', 0.308), ('Michael Phillips', 0.286), ('Claudia Puig', 0.235)]"
      ]
     },
     "execution_count": 28,
     "metadata": {},
     "output_type": "execute_result"
    }
   ],
   "source": [
    "# see how topmatches function works using other similarity measure\n",
    "topMatches(reviews,'Toby', n=3, similarity=sim_distance)"
   ]
  },
  {
   "cell_type": "markdown",
   "metadata": {
    "deletable": true,
    "editable": true
   },
   "source": [
    "Сейчас мы хотим сделать рекомендации. Для этого мы могли бы использовать наиболее похожего человека и выбрать фильмы,которые он смотрел, а человек,для которого проводятся рекомендации не смотрел. Но, возможно этот схожий человек не посмотрел наиболее релевантные фильмы или фильм,который мы хотим порекомендовать по его просмотрам является выбросом (нравится этому человеку, но не нравится всем остальным,которые также похожи на пользователя, для которого мы делаем рекомендации).\n",
    "\n",
    "Поэтому для рекомендаций будем использовать средневзвешенную сумму рейтингов по всем пользователям, которые оценили данный фильм. Предположим, пользователь $i$  имеет оценку похожести $s_{i}$ к рассматриваемому пользователю и ставит рейтинг $r_{i}(m)$ фильму m, непросмотренному пользователем,для которого хотим сделать рекомендации. Т.о., похожий пользователь внесет вклад $s_{i}\\cdot r_{i}(m)$ в предпочтения данного пользователя относительно фильма $m$. Итак, ожидаемый рейтинг фильма $m$ считается следующим образом:\n",
    "$$E[r_{m}] = \\frac{\\sum_{i}s_{i}\\cdot r_{i}(m)}{\\sum_{i} s_{i}}$$\n",
    "\n",
    "Ниже имплементирована представленная функция расчета ожидаемого рейтинга для всех фильмов, непросмотренных данным пользователем."
   ]
  },
  {
   "cell_type": "code",
   "execution_count": 30,
   "metadata": {
    "collapsed": true,
    "deletable": true,
    "editable": true
   },
   "outputs": [],
   "source": [
    "def getRecommendations(prefs,person,similarity=sim_pearson):\n",
    "  totals={}\n",
    "  simSums={}\n",
    "  for other in prefs:\n",
    "    # don't compare me to myself\n",
    "    if other==person: continue\n",
    "    sim=similarity(prefs,person,other)\n",
    "    \n",
    "    # ignore scores of zero or lower\n",
    "    if sim<=0: continue\n",
    "    for item in prefs[other]:\n",
    "\n",
    "      # only score movies I haven't seen yet\n",
    "      if item not in prefs[person] or prefs[person][item]==0:\n",
    "        # Similarity * Score\n",
    "        if item not in totals:\n",
    "            totals[item]=0\n",
    "            simSums[item]=0\n",
    "        totals[item] += prefs[other][item]*sim\n",
    "        # Sum of similarities\n",
    "        simSums[item] += sim\n",
    "\n",
    "  # Create the normalized list\n",
    "  rankings=[(item,round(totals[item]/simSums[item],3)) for item in totals]\n",
    "\n",
    "  # Return the sorted list\n",
    "  return sorted(rankings,key=lambda x:x[1],reverse=True)"
   ]
  },
  {
   "cell_type": "code",
   "execution_count": 31,
   "metadata": {
    "collapsed": false,
    "deletable": true,
    "editable": true
   },
   "outputs": [
    {
     "data": {
      "text/plain": [
       "[('The Night Listener', 3.348),\n",
       " ('Lady in the Water', 2.833),\n",
       " ('Just My Luck', 2.531)]"
      ]
     },
     "execution_count": 31,
     "metadata": {},
     "output_type": "execute_result"
    }
   ],
   "source": [
    "getRecommendations(reviews,'Toby')\n",
    "#also gives likely rating"
   ]
  },
  {
   "cell_type": "code",
   "execution_count": 32,
   "metadata": {
    "collapsed": false,
    "deletable": true,
    "editable": true
   },
   "outputs": [
    {
     "data": {
      "text/plain": [
       "[('The Night Listener', 3.5),\n",
       " ('Lady in the Water', 2.756),\n",
       " ('Just My Luck', 2.462)]"
      ]
     },
     "execution_count": 32,
     "metadata": {},
     "output_type": "execute_result"
    }
   ],
   "source": [
    "#or use other distance measure\n",
    "getRecommendations(reviews,'Toby',similarity=sim_distance)"
   ]
  },
  {
   "cell_type": "markdown",
   "metadata": {
    "deletable": true,
    "editable": true
   },
   "source": [
    "Теперь предположим, что мы хотим связывать объекты (например, на сайте Amazon (часто с этим продуктом пользователи также покупают...)). Поэтому вместо схожести пользователей мы будем рассматривать схожесть между объектами (предположение:различные пользователи стремятся оценить похожие объекты близкими рейтигами)."
   ]
  },
  {
   "cell_type": "code",
   "execution_count": 33,
   "metadata": {
    "collapsed": true,
    "deletable": true,
    "editable": true
   },
   "outputs": [],
   "source": [
    "#first reverse role of items and objects\n",
    "def transformPrefs(prefs):\n",
    "  result=defaultdict(dict)\n",
    "  for person in prefs:\n",
    "    for item in prefs[person]:      \n",
    "      # Flip item and person\n",
    "      result[item][person]=prefs[person][item]\n",
    "  return result"
   ]
  },
  {
   "cell_type": "markdown",
   "metadata": {
    "deletable": true,
    "editable": true
   },
   "source": [
    "Используем это для получения оценки похожести между фильмами:"
   ]
  },
  {
   "cell_type": "code",
   "execution_count": 34,
   "metadata": {
    "collapsed": false,
    "deletable": true,
    "editable": true
   },
   "outputs": [
    {
     "data": {
      "text/plain": [
       "defaultdict(dict,\n",
       "            {'Just My Luck': {'Claudia Puig': 3.0,\n",
       "              'Gene Seymour': 1.5,\n",
       "              'Lisa Rose': 3.0,\n",
       "              'Mick LaSalle': 2.0},\n",
       "             'Lady in the Water': {'Gene Seymour': 3.0,\n",
       "              'Jack Matthews': 3.0,\n",
       "              'Lisa Rose': 2.5,\n",
       "              'Michael Phillips': 2.5,\n",
       "              'Mick LaSalle': 3.0},\n",
       "             'Snakes on a Plane': {'Claudia Puig': 3.5,\n",
       "              'Gene Seymour': 3.5,\n",
       "              'Jack Matthews': 4.0,\n",
       "              'Lisa Rose': 3.5,\n",
       "              'Michael Phillips': 3.0,\n",
       "              'Mick LaSalle': 4.0,\n",
       "              'Toby': 4.5},\n",
       "             'Superman Returns': {'Claudia Puig': 4.0,\n",
       "              'Gene Seymour': 5.0,\n",
       "              'Jack Matthews': 5.0,\n",
       "              'Lisa Rose': 3.5,\n",
       "              'Michael Phillips': 3.5,\n",
       "              'Mick LaSalle': 3.0,\n",
       "              'Toby': 4.0},\n",
       "             'The Night Listener': {'Claudia Puig': 4.5,\n",
       "              'Gene Seymour': 3.0,\n",
       "              'Jack Matthews': 3.0,\n",
       "              'Lisa Rose': 3.0,\n",
       "              'Michael Phillips': 4.0,\n",
       "              'Mick LaSalle': 3.0},\n",
       "             'You, Me and Dupree': {'Claudia Puig': 2.5,\n",
       "              'Gene Seymour': 3.5,\n",
       "              'Jack Matthews': 3.5,\n",
       "              'Lisa Rose': 2.5,\n",
       "              'Mick LaSalle': 2.0,\n",
       "              'Toby': 1.0}})"
      ]
     },
     "execution_count": 34,
     "metadata": {},
     "output_type": "execute_result"
    }
   ],
   "source": [
    "movies=transformPrefs(reviews)\n",
    "movies"
   ]
  },
  {
   "cell_type": "code",
   "execution_count": 35,
   "metadata": {
    "collapsed": false,
    "deletable": true,
    "editable": true
   },
   "outputs": [
    {
     "data": {
      "text/plain": [
       "[('You, Me and Dupree', 0.658),\n",
       " ('Lady in the Water', 0.488),\n",
       " ('Snakes on a Plane', 0.112),\n",
       " ('The Night Listener', -0.18),\n",
       " ('Just My Luck', -0.423)]"
      ]
     },
     "execution_count": 35,
     "metadata": {},
     "output_type": "execute_result"
    }
   ],
   "source": [
    "#now topmatches gives similar movies rather than similar reviewers\n",
    "topMatches(movies,'Superman Returns')"
   ]
  },
  {
   "cell_type": "code",
   "execution_count": 36,
   "metadata": {
    "collapsed": false,
    "deletable": true,
    "editable": true
   },
   "outputs": [
    {
     "data": {
      "image/png": "[encoded data removed]",
      "text/plain": [
       "<matplotlib.figure.Figure at 0x10f84e8d0>"
      ]
     },
     "metadata": {},
     "output_type": "display_data"
    }
   ],
   "source": [
    "#note negative scores, reviewers who like one dislike the other\n",
    "show_pearson(movies,'Just My Luck','Superman Returns')"
   ]
  },
  {
   "cell_type": "markdown",
   "metadata": {
    "deletable": true,
    "editable": true
   },
   "source": [
    "Таким образом после смены ролей пользователей и фильмов, мы рекомендуем фильму пользователя (человека, который вероятно оценит этот фильм):"
   ]
  },
  {
   "cell_type": "code",
   "execution_count": 37,
   "metadata": {
    "collapsed": false,
    "deletable": true,
    "editable": true
   },
   "outputs": [
    {
     "data": {
      "text/plain": [
       "[('Michael Phillips', 4.0), ('Jack Matthews', 3.0)]"
      ]
     },
     "execution_count": 37,
     "metadata": {},
     "output_type": "execute_result"
    }
   ],
   "source": [
    "getRecommendations(movies,'Just My Luck')\n",
    "#find critics for movie ... invite to premiere?"
   ]
  },
  {
   "cell_type": "code",
   "execution_count": null,
   "metadata": {
    "collapsed": true,
    "deletable": true,
    "editable": true
   },
   "outputs": [],
   "source": []
  }
 ],
 "metadata": {
  "kernelspec": {
   "display_name": "Python 2",
   "language": "python",
   "name": "python2"
  },
  "language_info": {
   "codemirror_mode": {
    "name": "ipython",
    "version": 2
   },
   "file_extension": ".py",
   "mimetype": "text/x-python",
   "name": "python",
   "nbconvert_exporter": "python",
   "pygments_lexer": "ipython2",
   "version": "2.7.10"
  }
 },
 "nbformat": 4,
 "nbformat_minor": 0
}
