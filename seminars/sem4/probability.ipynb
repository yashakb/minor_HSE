{
 "cells": [
  {
   "cell_type": "markdown",
   "metadata": {},
   "source": [
    "# Теория вероятностей"
   ]
  },
  {
   "cell_type": "markdown",
   "metadata": {
    "collapsed": true
   },
   "source": [
    "## Напоминание теории с лекций\n",
    "\n",
    "**Вероятностное пространство** — это совокупность $(\\Omega, \\mathcal{F}, \\mathbb{P})$, где\n",
    "\n",
    "1) $\\Omega$ — множество элементарных исходов;\n",
    "\n",
    "2) $\\mathcal{F}$ — множество событий (подмножеств $\\Omega$);\n",
    "\n",
    "3) $\\mathbb{P}: \\mathcal{F} \\to [0; 1]$ — вероятность (функция, заданная на множестве событий)."
   ]
  },
  {
   "cell_type": "markdown",
   "metadata": {},
   "source": [
    "**Пример.**\n",
    "\n",
    "Рассмотрим одиночное подбрасывание кубика. Пронумеруем его грани числами от 1 до 6. В данном случае:\n",
    "\n",
    "1) $\\Omega = \\{ 1, 2, 3, 4, 5, 6\\}$. Т.е. элементарный исход — это выпадение одной из граней кубика.\n",
    "\n",
    "2) $\\mathcal{F}$ — подмножества $\\Omega$.\n",
    "\n",
    "$A_1 = \\{2, 4, 6\\} \\in \\mathcal{F}$ — событие \"выпало чётное число\".\n",
    "\n",
    "$A_2 = \\{ 1, 2, 3\\} \\in \\mathcal{F}$ — событие \"выпало число меньше 4\".\n",
    "\n",
    "$A_3 = \\{ 1 \\} \\in \\mathcal{F}$ — событие \"выпало число 1\".\n",
    "\n",
    "3) $\\mathbb{P}(w) = \\frac{1}{6} \\quad \\forall$ (для любого) $w \\in \\Omega$, т.е. выпадение всех граней равновероятно."
   ]
  },
  {
   "cell_type": "markdown",
   "metadata": {},
   "source": [
    "### Условная вероятность\n",
    "Наши представления о том, что случится событие $A$, если мы знаем, что $B$ уже произошло, традиционно вычисляются при помощи понятия **условной вероятности**:\n",
    "\n",
    "$$\\mathbb{P}(A | B) = \\frac{\\mathbb{P}(A B)}{\\mathbb{P}(B)}, (*)$$\n",
    "\n",
    "где $AB$ - пересечение событий А и B."
   ]
  },
  {
   "cell_type": "markdown",
   "metadata": {},
   "source": [
    "**Пример.**\n",
    "\n",
    "Вычислите вероятность того, что при броске кубика выпало число 2, если известно, что выпало чётное число.\n",
    "\n",
    "**Решение.**\n",
    "$$A = \\{2 \\}, B = \\{ 2, 4, 6\\}.$$\n",
    "\n",
    "$$\\mathbb{P}(A|B) = \\frac{\\mathbb{P}(AB)}{\\mathbb{P}(B)} = \\frac{\\mathbb{P}(\\{2\\})}{\\mathbb{P}(\\{2, 4, 6\\})} = \\frac{1 \\cdot \\frac{1}{6}}{3 \\cdot \\frac{1}{6}} = \\frac{1}{3}. \\square$$\n"
   ]
  },
  {
   "cell_type": "markdown",
   "metadata": {},
   "source": [
    "### Формула Байеса\n",
    "Можно записать симметричное выражение, преобразовать его:\n",
    "\n",
    "$$\\mathbb{P}(B | A) = \\frac{\\mathbb{P}(A B)}{\\mathbb{P}(A)},$$\n",
    "$$\\mathbb{P}(A B) = \\mathbb{P}(B | A) \\mathbb{P}(A)$$\n",
    "и подставить полученное в (\\*):\n",
    "$$\\mathbb{P}(A | B) = \\frac{\\mathbb{P}(B | A) \\mathbb{P}(A)}{\\mathbb{P}(B)}$$\n",
    "\n",
    "Эта формула называется **формулой Байеса**."
   ]
  },
  {
   "cell_type": "markdown",
   "metadata": {},
   "source": [
    "### Независимости событий\n",
    "\n",
    "В теории вероятности пара событий $A$ и $B$ называются независимыми, если выполнено соотношение\n",
    "\n",
    "$$\\mathbb{P}(AB) = \\mathbb{P}(A)\\mathbb{P}(B).$$\n",
    "\n",
    "Определение продолжается очевидным образом: $n$ событий $A_1, ..., A_n$ называются независимыми в совокупности, если выполнено\n",
    "\n",
    "$$\\mathbb{P}(A_1 \\cdot... \\cdot A_n) = \\mathbb{P}(A_1)...\\mathbb{P}(A_n).$$"
   ]
  },
  {
   "cell_type": "markdown",
   "metadata": {},
   "source": [
    "## Виды распределений случайных величин\n",
    "\n",
    "**Случайная величина** — функция $\\xi: \\Omega \\to \\mathbb{R},$ обладающая свойством измеримости (что бы это ни значило, не обращайте внимания)."
   ]
  },
  {
   "cell_type": "code",
   "execution_count": 27,
   "metadata": {
    "collapsed": true
   },
   "outputs": [],
   "source": [
    "import matplotlib.pyplot as plt\n",
    "import numpy as np"
   ]
  },
  {
   "cell_type": "markdown",
   "metadata": {},
   "source": [
    "#### 0. Равномерное распределение\n",
    "\n",
    "Случайная величина принимает значения из некоторого набора с равными вероятностями.\n",
    "\n",
    "* Если множество значений конечно, то говорят о дискретном непрерывном распределении.\n",
    "\n",
    "* В противном случае - о непрерывном равномерном распределении."
   ]
  },
  {
   "cell_type": "code",
   "execution_count": 35,
   "metadata": {
    "collapsed": false,
    "scrolled": true
   },
   "outputs": [
    {
     "data": {
      "text/plain": [
       "array([-0.06872424, -0.86666196, -0.88004717, ..., -0.52353501,\n",
       "       -0.16815745, -0.34817644])"
      ]
     },
     "execution_count": 35,
     "metadata": {},
     "output_type": "execute_result"
    }
   ],
   "source": [
    "s = np.random.uniform(-1,0,1000001)\n",
    "s"
   ]
  },
  {
   "cell_type": "code",
   "execution_count": 36,
   "metadata": {
    "collapsed": false
   },
   "outputs": [
    {
     "data": {
      "image/png": "[encoded data removed]",
      "text/plain": [
       "<matplotlib.figure.Figure at 0xa0f5860>"
      ]
     },
     "metadata": {},
     "output_type": "display_data"
    }
   ],
   "source": [
    "count, bins, ignored = plt.hist(s, 15, normed=True)\n",
    "plt.plot(bins, np.ones_like(bins), linewidth=2, color='r')\n",
    "plt.show()"
   ]
  },
  {
   "cell_type": "markdown",
   "metadata": {},
   "source": [
    "#### 1. Распределение Бернулли\n",
    "\n",
    "$\\mathbb{P}(\\xi = 1) = p,$\n",
    "\n",
    "$\\mathbb{P}(\\xi = 0) = 1 - p.$\n",
    "\n",
    "$\\xi \\sim Ber(p)$\n",
    "\n",
    "Пример: подбрасывание монетки."
   ]
  },
  {
   "cell_type": "code",
   "execution_count": 37,
   "metadata": {
    "collapsed": false
   },
   "outputs": [],
   "source": [
    "from scipy.stats import bernoulli\n",
    "import numpy as np\n",
    "\n",
    "p = 0.7\n",
    "rv = bernoulli(p) # генератор реализаций с.в."
   ]
  },
  {
   "cell_type": "code",
   "execution_count": 40,
   "metadata": {
    "collapsed": false,
    "scrolled": true
   },
   "outputs": [
    {
     "data": {
      "text/plain": [
       "array([1, 0, 1, ..., 1, 0, 1])"
      ]
     },
     "execution_count": 40,
     "metadata": {},
     "output_type": "execute_result"
    }
   ],
   "source": [
    "R = bernoulli.rvs(p, size=10000)\n",
    "R"
   ]
  },
  {
   "cell_type": "code",
   "execution_count": 41,
   "metadata": {
    "collapsed": false
   },
   "outputs": [
    {
     "data": {
      "image/png": "[encoded data removed]",
      "text/plain": [
       "<matplotlib.figure.Figure at 0x84b8e48>"
      ]
     },
     "metadata": {},
     "output_type": "display_data"
    }
   ],
   "source": [
    "import matplotlib.pyplot as plt\n",
    "\n",
    "%matplotlib inline\n",
    "\n",
    "plt.hist(R, bins = 2)\n",
    "plt.show()"
   ]
  },
  {
   "cell_type": "markdown",
   "metadata": {},
   "source": [
    "#### 2. Биномиальное распределение\n",
    "\n",
    "$\\xi_i \\sim Ber(p),$\n",
    "\n",
    "$\\xi = \\sum_{i = 1}^n \\xi_i \\sim Bi(n, p)$ — биномиальное распределение"
   ]
  },
  {
   "cell_type": "code",
   "execution_count": 47,
   "metadata": {
    "collapsed": false,
    "scrolled": false
   },
   "outputs": [
    {
     "data": {
      "text/plain": [
       "array([7, 5, 5, ..., 4, 5, 4])"
      ]
     },
     "execution_count": 47,
     "metadata": {},
     "output_type": "execute_result"
    }
   ],
   "source": [
    "n, p = 10, 0.5\n",
    "s = np.random.binomial(n, p, 10000)\n",
    "s"
   ]
  },
  {
   "cell_type": "code",
   "execution_count": 48,
   "metadata": {
    "collapsed": false
   },
   "outputs": [
    {
     "data": {
      "image/png": "[encoded data removed]",
      "text/plain": [
       "<matplotlib.figure.Figure at 0xa03dbe0>"
      ]
     },
     "metadata": {},
     "output_type": "display_data"
    }
   ],
   "source": [
    "plt.hist(s, bins = 10)\n",
    "plt.show()"
   ]
  },
  {
   "cell_type": "code",
   "execution_count": null,
   "metadata": {
    "collapsed": true
   },
   "outputs": [],
   "source": []
  },
  {
   "cell_type": "markdown",
   "metadata": {},
   "source": [
    "#### 3. Нормальное распределение\n",
    "\n",
    "$\\xi \\sim \\mathcal{N} (\\mu, \\sigma^2)$\n",
    "\n",
    "Плотность нормального распределения:\n",
    "$$p(x; \\mu, \\sigma^2) = \\frac{1}{\\sqrt{2 \\pi \\sigma^2}} e^{- \\frac{(x- \\mu)^2}{2 \\sigma^2}}$$"
   ]
  },
  {
   "cell_type": "code",
   "execution_count": 49,
   "metadata": {
    "collapsed": false
   },
   "outputs": [],
   "source": [
    "mu, sigma = 0, 0.1 # mean and standard deviation\n",
    "s = np.random.normal(mu, sigma, 10000)"
   ]
  },
  {
   "cell_type": "code",
   "execution_count": 50,
   "metadata": {
    "collapsed": false
   },
   "outputs": [
    {
     "data": {
      "image/png": "[encoded data removed]",
      "text/plain": [
       "<matplotlib.figure.Figure at 0x82bd2e8>"
      ]
     },
     "metadata": {},
     "output_type": "display_data"
    }
   ],
   "source": [
    "import matplotlib.pyplot as plt\n",
    "count, bins, ignored = plt.hist(s, 30, normed=True)\n",
    "plt.plot(bins, 1/(sigma * np.sqrt(2 * np.pi)) * np.exp( - (bins - mu)**2 / (2 * sigma**2) ), linewidth=2, color='r')\n",
    "plt.show()"
   ]
  },
  {
   "cell_type": "markdown",
   "metadata": {},
   "source": [
    "## Метод максимального правдоподобия\n",
    "\n",
    "Пусть имеется некоторая выборка $x_1, x_2, ..., x_n$ из заданного распределения с неизвестным(и) параметром(ами). Как оценить значение параметра?\n",
    "\n",
    "$$L(x_1, ..., x_n| \\theta) \\to \\max_{\\theta},$$\n",
    "\n",
    "где $L(...)$ — функция правдоподобия выборки, $\\theta$ — параметр(ы), который необходимо найти.\n",
    "\n",
    "Предположим, что выборка независимая. Тогда функция правдоподобия запишется следующим образом:\n",
    "\n",
    "$$L(x_1, ..., x_n| \\theta) = \\prod_{i = 1}^n p(x_i|\\theta).$$\n",
    "\n",
    "Чаще всего вместо задачи максимизации функции правдопобия удобнее решать задачу максимизации её логарифма:\n",
    "$$\\ln L(x_1, ..., x_n| \\theta)  = \\sum_{i = 1}^n \\ln p(x_i|\\theta) \\to \\max_{\\theta},$$"
   ]
  },
  {
   "cell_type": "markdown",
   "metadata": {},
   "source": [
    "**Пример.**\n",
    "\n",
    "Пусть имеется выборка $x_1, ..., x_n$ из нормального распределения. Найдите оценку максимального правдоподобия параметров $\\mu, \\sigma.$\n",
    "\n",
    "**Решение.**\n",
    "\n",
    "Запишем логарифм функции правдоподобия для нормального распределения:\n",
    "\n",
    "$L(x_1, ... x_n|\\mu, \\sigma) = \\prod_{i=1}^n \\frac{1}{\\sqrt{2 \\pi \\sigma^2}} \\exp (- \\frac{(x_i - \\mu)^2}{2 \\sigma^2}),$\n",
    "\n",
    "$\\ln L(x_1, ... x_n|\\mu, \\sigma) = \\sum_{i=1}^n ( - \\frac{1}{2} \\ln 2 \\pi - \\ln \\sigma - \\frac{1}{2 \\sigma^2} (x_i - \\mu)^2) = -\\frac{n}{2} \\ln 2 \\pi - n \\ln \\sigma - \\frac{1}{2 \\sigma^2} \\sum_{i = 1}^n (x_i - \\mu)^2.$\n",
    "\n",
    "Как искать минимум? Необходимое условие минимума функции $f(x)$ в точке $a$: $\\frac{\\partial f}{\\partial x} (a) = 0.$\n",
    "\n",
    "\\begin{cases}\n",
    "\\frac{\\partial}{\\partial \\mu}  ln L(x_1, ..., x_n|\\mu_{ML}, \\sigma_{ML}) = 0,\\\\\n",
    "\\frac{\\partial}{\\partial \\sigma} ln L(x_1, ..., x_n|\\mu_{ML}, \\sigma_{ML})   = 0.\n",
    "\\end{cases}\n",
    "\n",
    "1) $\\frac{\\partial}{\\partial \\mu}  ln L(x_1, ..., x_n|\\mu_{ML}, \\sigma_{ML}) = - 0 - 0 - (-1) \\cdot \\frac{1}{2 \\sigma_{ML}^2} \\sum_{i = 1}^n 2 (x_i - \\mu_{ML}) = \\frac{1}{\\sigma_{ML}^2} \\sum_{i = 1}^n (x_i - \\mu_{ML}) = 0.$\n",
    "\n",
    "$\\sum_{i=1}^n x_i - n \\mu_{ML} = 0$\n",
    "\n",
    "$\\sum_{i=1}^n x_i = n \\mu_{ML}$\n",
    "\n",
    "$\\mu_{ML} = \\frac{1}{n} \\sum_{i=1}^n x_i$\n",
    "\n",
    "2) $\\frac{\\partial}{\\partial \\sigma}  ln L(x_1, ..., x_n|\\mu_{ML}, \\sigma_{ML}) = - 0 - \\frac{n}{\\sigma_{ML}} - \\frac{1}{2} \\cdot (-2) \\frac{1}{\\sigma_{ML}^3} \\sum_{i = 1}^n (x_i - \\mu_{ML})^2 = - \\frac{n}{\\sigma_{ML}} + \\frac{1}{\\sigma_{ML}^3} \\sum_{i = 1}^n (x_i - \\mu_{ML})^2 = 0$\n",
    "\n",
    "$\\frac{1}{\\sigma_{ML}^2} \\sum_{i = 1}^n (x_i - \\mu_{ML})^2 = n$\n",
    "\n",
    "$\\sigma_{ML}^2 = \\frac{1}{n} \\sum_{i = 1}^n (x_i - \\mu_{ML})^2$"
   ]
  }
 ],
 "metadata": {
  "kernelspec": {
   "display_name": "Python 2",
   "language": "python",
   "name": "python2"
  },
  "language_info": {
   "codemirror_mode": {
    "name": "ipython",
    "version": 2
   },
   "file_extension": ".py",
   "mimetype": "text/x-python",
   "name": "python",
   "nbconvert_exporter": "python",
   "pygments_lexer": "ipython2",
   "version": "2.7.10"
  }
 },
 "nbformat": 4,
 "nbformat_minor": 0
}
