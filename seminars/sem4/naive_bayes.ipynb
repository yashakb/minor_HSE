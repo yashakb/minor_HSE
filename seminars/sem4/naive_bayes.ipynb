{
 "cells": [
  {
   "cell_type": "markdown",
   "metadata": {},
   "source": [
    "## Naive Bayes"
   ]
  },
  {
   "cell_type": "markdown",
   "metadata": {},
   "source": [
    "Пример использования наивного байесовского классификатора для задачи распознавания диабета.\n",
    "В качестве распределений, моделирующих признаки, используются независимые нормальные распределения."
   ]
  },
  {
   "cell_type": "code",
   "execution_count": 1,
   "metadata": {
    "collapsed": true
   },
   "outputs": [],
   "source": [
    "import pandas as pd\n",
    "import numpy as np\n",
    "import matplotlib.pyplot as plt\n",
    "from sklearn.cross_validation import train_test_split\n",
    "%matplotlib inline"
   ]
  },
  {
   "cell_type": "code",
   "execution_count": 4,
   "metadata": {
    "collapsed": false
   },
   "outputs": [
    {
     "data": {
      "text/html": [
       "<div>\n",
       "<table border=\"1\" class=\"dataframe\">\n",
       "  <thead>\n",
       "    <tr style=\"text-align: right;\">\n",
       "      <th></th>\n",
       "      <th>N_PREGNANCY</th>\n",
       "      <th>PLASMA_CONC</th>\n",
       "      <th>BLOOD_PRESSURE</th>\n",
       "      <th>SKIN_THICKNESS</th>\n",
       "      <th>SERUM_INSULIN</th>\n",
       "      <th>BODY_MASS_INDEX</th>\n",
       "      <th>DIABETES_FUNCTION</th>\n",
       "      <th>AGE</th>\n",
       "      <th>TARGET</th>\n",
       "    </tr>\n",
       "  </thead>\n",
       "  <tbody>\n",
       "    <tr>\n",
       "      <th>0</th>\n",
       "      <td>1</td>\n",
       "      <td>85</td>\n",
       "      <td>66</td>\n",
       "      <td>29</td>\n",
       "      <td>0</td>\n",
       "      <td>26.6</td>\n",
       "      <td>0.351</td>\n",
       "      <td>31</td>\n",
       "      <td>0</td>\n",
       "    </tr>\n",
       "    <tr>\n",
       "      <th>1</th>\n",
       "      <td>8</td>\n",
       "      <td>183</td>\n",
       "      <td>64</td>\n",
       "      <td>0</td>\n",
       "      <td>0</td>\n",
       "      <td>23.3</td>\n",
       "      <td>0.672</td>\n",
       "      <td>32</td>\n",
       "      <td>1</td>\n",
       "    </tr>\n",
       "    <tr>\n",
       "      <th>2</th>\n",
       "      <td>1</td>\n",
       "      <td>89</td>\n",
       "      <td>66</td>\n",
       "      <td>23</td>\n",
       "      <td>94</td>\n",
       "      <td>28.1</td>\n",
       "      <td>0.167</td>\n",
       "      <td>21</td>\n",
       "      <td>0</td>\n",
       "    </tr>\n",
       "    <tr>\n",
       "      <th>3</th>\n",
       "      <td>0</td>\n",
       "      <td>137</td>\n",
       "      <td>40</td>\n",
       "      <td>35</td>\n",
       "      <td>168</td>\n",
       "      <td>43.1</td>\n",
       "      <td>2.288</td>\n",
       "      <td>33</td>\n",
       "      <td>1</td>\n",
       "    </tr>\n",
       "    <tr>\n",
       "      <th>4</th>\n",
       "      <td>5</td>\n",
       "      <td>116</td>\n",
       "      <td>74</td>\n",
       "      <td>0</td>\n",
       "      <td>0</td>\n",
       "      <td>25.6</td>\n",
       "      <td>0.201</td>\n",
       "      <td>30</td>\n",
       "      <td>0</td>\n",
       "    </tr>\n",
       "  </tbody>\n",
       "</table>\n",
       "</div>"
      ],
      "text/plain": [
       "   N_PREGNANCY  PLASMA_CONC  BLOOD_PRESSURE  SKIN_THICKNESS  SERUM_INSULIN  \\\n",
       "0            1           85              66              29              0   \n",
       "1            8          183              64               0              0   \n",
       "2            1           89              66              23             94   \n",
       "3            0          137              40              35            168   \n",
       "4            5          116              74               0              0   \n",
       "\n",
       "   BODY_MASS_INDEX  DIABETES_FUNCTION  AGE  TARGET  \n",
       "0             26.6              0.351   31       0  \n",
       "1             23.3              0.672   32       1  \n",
       "2             28.1              0.167   21       0  \n",
       "3             43.1              2.288   33       1  \n",
       "4             25.6              0.201   30       0  "
      ]
     },
     "execution_count": 4,
     "metadata": {},
     "output_type": "execute_result"
    }
   ],
   "source": [
    "data = pd.read_csv('https://archive.ics.uci.edu/ml/machine-learning-databases/pima-indians-diabetes/pima-indians-diabetes.data')\n",
    "data.columns = [\"N_PREGNANCY\",\n",
    "                \"PLASMA_CONC\",\n",
    "                \"BLOOD_PRESSURE\",\n",
    "                \"SKIN_THICKNESS\",\n",
    "                \"SERUM_INSULIN\",\n",
    "                \"BODY_MASS_INDEX\",\n",
    "                \"DIABETES_FUNCTION\",\n",
    "                \"AGE\",\n",
    "                \"TARGET\"]\n",
    "data.head()"
   ]
  },
  {
   "cell_type": "code",
   "execution_count": 6,
   "metadata": {
    "collapsed": false
   },
   "outputs": [
    {
     "name": "stdout",
     "output_type": "stream",
     "text": [
      "Split 767 rows into train=253 and test=514 rows\n"
     ]
    }
   ],
   "source": [
    "train, test = train_test_split(data, test_size = 0.67)\n",
    "print('Split {0} rows into train={1} and test={2} rows'.format(len(data), len(train), len(test)))\n",
    "mean = train.groupby(['TARGET']).mean()\n",
    "std = train.groupby(['TARGET']).std(0)"
   ]
  },
  {
   "cell_type": "code",
   "execution_count": 7,
   "metadata": {
    "collapsed": false
   },
   "outputs": [
    {
     "data": {
      "text/html": [
       "<div>\n",
       "<table border=\"1\" class=\"dataframe\">\n",
       "  <thead>\n",
       "    <tr style=\"text-align: right;\">\n",
       "      <th></th>\n",
       "      <th>N_PREGNANCY</th>\n",
       "      <th>PLASMA_CONC</th>\n",
       "      <th>BLOOD_PRESSURE</th>\n",
       "      <th>SKIN_THICKNESS</th>\n",
       "      <th>SERUM_INSULIN</th>\n",
       "      <th>BODY_MASS_INDEX</th>\n",
       "      <th>DIABETES_FUNCTION</th>\n",
       "      <th>AGE</th>\n",
       "    </tr>\n",
       "    <tr>\n",
       "      <th>TARGET</th>\n",
       "      <th></th>\n",
       "      <th></th>\n",
       "      <th></th>\n",
       "      <th></th>\n",
       "      <th></th>\n",
       "      <th></th>\n",
       "      <th></th>\n",
       "      <th></th>\n",
       "    </tr>\n",
       "  </thead>\n",
       "  <tbody>\n",
       "    <tr>\n",
       "      <th>0</th>\n",
       "      <td>3.377143</td>\n",
       "      <td>108.754286</td>\n",
       "      <td>66.131429</td>\n",
       "      <td>19.137143</td>\n",
       "      <td>66.062857</td>\n",
       "      <td>30.282286</td>\n",
       "      <td>0.415017</td>\n",
       "      <td>30.691429</td>\n",
       "    </tr>\n",
       "    <tr>\n",
       "      <th>1</th>\n",
       "      <td>4.410256</td>\n",
       "      <td>138.641026</td>\n",
       "      <td>68.794872</td>\n",
       "      <td>22.423077</td>\n",
       "      <td>106.653846</td>\n",
       "      <td>34.716667</td>\n",
       "      <td>0.608192</td>\n",
       "      <td>37.166667</td>\n",
       "    </tr>\n",
       "  </tbody>\n",
       "</table>\n",
       "</div>"
      ],
      "text/plain": [
       "        N_PREGNANCY  PLASMA_CONC  BLOOD_PRESSURE  SKIN_THICKNESS  \\\n",
       "TARGET                                                             \n",
       "0          3.377143   108.754286       66.131429       19.137143   \n",
       "1          4.410256   138.641026       68.794872       22.423077   \n",
       "\n",
       "        SERUM_INSULIN  BODY_MASS_INDEX  DIABETES_FUNCTION        AGE  \n",
       "TARGET                                                                \n",
       "0           66.062857        30.282286           0.415017  30.691429  \n",
       "1          106.653846        34.716667           0.608192  37.166667  "
      ]
     },
     "execution_count": 7,
     "metadata": {},
     "output_type": "execute_result"
    }
   ],
   "source": [
    "mean"
   ]
  },
  {
   "cell_type": "code",
   "execution_count": 8,
   "metadata": {
    "collapsed": false,
    "scrolled": true
   },
   "outputs": [
    {
     "data": {
      "text/html": [
       "<div>\n",
       "<table border=\"1\" class=\"dataframe\">\n",
       "  <thead>\n",
       "    <tr style=\"text-align: right;\">\n",
       "      <th></th>\n",
       "      <th>N_PREGNANCY</th>\n",
       "      <th>PLASMA_CONC</th>\n",
       "      <th>BLOOD_PRESSURE</th>\n",
       "      <th>SKIN_THICKNESS</th>\n",
       "      <th>SERUM_INSULIN</th>\n",
       "      <th>BODY_MASS_INDEX</th>\n",
       "      <th>DIABETES_FUNCTION</th>\n",
       "      <th>AGE</th>\n",
       "    </tr>\n",
       "    <tr>\n",
       "      <th>TARGET</th>\n",
       "      <th></th>\n",
       "      <th></th>\n",
       "      <th></th>\n",
       "      <th></th>\n",
       "      <th></th>\n",
       "      <th></th>\n",
       "      <th></th>\n",
       "      <th></th>\n",
       "    </tr>\n",
       "  </thead>\n",
       "  <tbody>\n",
       "    <tr>\n",
       "      <th>0</th>\n",
       "      <td>3.097565</td>\n",
       "      <td>28.150659</td>\n",
       "      <td>19.885095</td>\n",
       "      <td>14.967910</td>\n",
       "      <td>97.580335</td>\n",
       "      <td>7.088903</td>\n",
       "      <td>0.308825</td>\n",
       "      <td>11.337759</td>\n",
       "    </tr>\n",
       "    <tr>\n",
       "      <th>1</th>\n",
       "      <td>3.409774</td>\n",
       "      <td>32.426633</td>\n",
       "      <td>24.454227</td>\n",
       "      <td>17.613019</td>\n",
       "      <td>127.882441</td>\n",
       "      <td>8.952588</td>\n",
       "      <td>0.447424</td>\n",
       "      <td>11.234581</td>\n",
       "    </tr>\n",
       "  </tbody>\n",
       "</table>\n",
       "</div>"
      ],
      "text/plain": [
       "        N_PREGNANCY  PLASMA_CONC  BLOOD_PRESSURE  SKIN_THICKNESS  \\\n",
       "TARGET                                                             \n",
       "0          3.097565    28.150659       19.885095       14.967910   \n",
       "1          3.409774    32.426633       24.454227       17.613019   \n",
       "\n",
       "        SERUM_INSULIN  BODY_MASS_INDEX  DIABETES_FUNCTION        AGE  \n",
       "TARGET                                                                \n",
       "0           97.580335         7.088903           0.308825  11.337759  \n",
       "1          127.882441         8.952588           0.447424  11.234581  "
      ]
     },
     "execution_count": 8,
     "metadata": {},
     "output_type": "execute_result"
    }
   ],
   "source": [
    "std"
   ]
  },
  {
   "cell_type": "code",
   "execution_count": 9,
   "metadata": {
    "collapsed": false
   },
   "outputs": [],
   "source": [
    "X = np.array(test)[:,:-1]\n",
    "m = np.array(mean)[0,:]\n",
    "s = np.array(std)[0,:]\n",
    "log_p0_test = np.sum(- np.log(s) - np.log(2*np.pi) / 2.0 - (X - m)**2 / 2 / s**2, axis=1)\n",
    "X = np.array(test)[:,:-1]\n",
    "m = np.array(mean)[1,:]\n",
    "s = np.array(std)[1,:]\n",
    "log_p1_test = np.sum(- np.log(s) - np.log(2*np.pi) / 2.0 - (X - m)**2 / 2 / s**2, axis=1)\n",
    "\n",
    "prediction_test = log_p1_test > log_p0_test"
   ]
  },
  {
   "cell_type": "code",
   "execution_count": 10,
   "metadata": {
    "collapsed": false
   },
   "outputs": [
    {
     "data": {
      "text/plain": [
       "0.7392996108949417"
      ]
     },
     "execution_count": 10,
     "metadata": {},
     "output_type": "execute_result"
    }
   ],
   "source": [
    "float(np.sum(test['TARGET'] == prediction_test)) / len(test)"
   ]
  }
 ],
 "metadata": {
  "kernelspec": {
   "display_name": "Python 2",
   "language": "python",
   "name": "python2"
  },
  "language_info": {
   "codemirror_mode": {
    "name": "ipython",
    "version": 2
   },
   "file_extension": ".py",
   "mimetype": "text/x-python",
   "name": "python",
   "nbconvert_exporter": "python",
   "pygments_lexer": "ipython2",
   "version": "2.7.10"
  }
 },
 "nbformat": 4,
 "nbformat_minor": 0
}
